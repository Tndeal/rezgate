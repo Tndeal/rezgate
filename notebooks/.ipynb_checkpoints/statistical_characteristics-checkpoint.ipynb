{
 "cells": [
  {
   "cell_type": "markdown",
   "id": "61fc0287",
   "metadata": {},
   "source": [
    "# Statistical Characteristics\n",
    "\n",
    "[Methods for describing a set of data](https://bookdown.org/thomas_pernet/Tuto/methods-for-describing-a-set-of-data.html)"
   ]
  },
  {
   "cell_type": "code",
   "execution_count": 4,
   "id": "1d55b8c8",
   "metadata": {},
   "outputs": [],
   "source": [
    "'''\n",
    "    WARNING CONTROL to display or ignore all warnings\n",
    "'''\n",
    "import warnings; warnings.simplefilter('default')     #switch betweeb 'default' and 'ignore'\n",
    "\n",
    "''' Set debug flag to view extended error messages; else set it to False to turn off debugging mode '''\n",
    "debug = True"
   ]
  },
  {
   "cell_type": "code",
   "execution_count": 5,
   "id": "e1252b4f",
   "metadata": {},
   "outputs": [
    {
     "name": "stdout",
     "output_type": "stream",
     "text": [
      "read data from .../sample_data/covid.csv\n"
     ]
    },
    {
     "ename": "FileNotFoundError",
     "evalue": "[Errno 2] No such file or directory: '.../sample_data/covid.csv'",
     "output_type": "error",
     "traceback": [
      "\u001b[0;31m---------------------------------------------------------------------------\u001b[0m",
      "\u001b[0;31mFileNotFoundError\u001b[0m                         Traceback (most recent call last)",
      "Input \u001b[0;32mIn [5]\u001b[0m, in \u001b[0;36m<cell line: 16>\u001b[0;34m()\u001b[0m\n\u001b[1;32m     13\u001b[0m \u001b[38;5;28mprint\u001b[39m(\u001b[38;5;124m\"\u001b[39m\u001b[38;5;124mread data from \u001b[39m\u001b[38;5;132;01m%s\u001b[39;00m\u001b[38;5;124m\"\u001b[39m \u001b[38;5;241m%\u001b[39mfile_path)\n\u001b[1;32m     15\u001b[0m \u001b[38;5;66;03m#reads the dataset from the csv file and prints the first 5 rows of data\u001b[39;00m\n\u001b[0;32m---> 16\u001b[0m data_df \u001b[38;5;241m=\u001b[39m \u001b[43mpd\u001b[49m\u001b[38;5;241;43m.\u001b[39;49m\u001b[43mread_csv\u001b[49m\u001b[43m(\u001b[49m\u001b[43mfile_path\u001b[49m\u001b[43m)\u001b[49m\n\u001b[1;32m     17\u001b[0m \u001b[38;5;28mprint\u001b[39m(data_df\u001b[38;5;241m.\u001b[39mhead(\u001b[38;5;241m5\u001b[39m))\n",
      "File \u001b[0;32m/Applications/anaconda3/lib/python3.9/site-packages/pandas/util/_decorators.py:311\u001b[0m, in \u001b[0;36mdeprecate_nonkeyword_arguments.<locals>.decorate.<locals>.wrapper\u001b[0;34m(*args, **kwargs)\u001b[0m\n\u001b[1;32m    305\u001b[0m \u001b[38;5;28;01mif\u001b[39;00m \u001b[38;5;28mlen\u001b[39m(args) \u001b[38;5;241m>\u001b[39m num_allow_args:\n\u001b[1;32m    306\u001b[0m     warnings\u001b[38;5;241m.\u001b[39mwarn(\n\u001b[1;32m    307\u001b[0m         msg\u001b[38;5;241m.\u001b[39mformat(arguments\u001b[38;5;241m=\u001b[39marguments),\n\u001b[1;32m    308\u001b[0m         \u001b[38;5;167;01mFutureWarning\u001b[39;00m,\n\u001b[1;32m    309\u001b[0m         stacklevel\u001b[38;5;241m=\u001b[39mstacklevel,\n\u001b[1;32m    310\u001b[0m     )\n\u001b[0;32m--> 311\u001b[0m \u001b[38;5;28;01mreturn\u001b[39;00m \u001b[43mfunc\u001b[49m\u001b[43m(\u001b[49m\u001b[38;5;241;43m*\u001b[39;49m\u001b[43margs\u001b[49m\u001b[43m,\u001b[49m\u001b[43m \u001b[49m\u001b[38;5;241;43m*\u001b[39;49m\u001b[38;5;241;43m*\u001b[39;49m\u001b[43mkwargs\u001b[49m\u001b[43m)\u001b[49m\n",
      "File \u001b[0;32m/Applications/anaconda3/lib/python3.9/site-packages/pandas/io/parsers/readers.py:680\u001b[0m, in \u001b[0;36mread_csv\u001b[0;34m(filepath_or_buffer, sep, delimiter, header, names, index_col, usecols, squeeze, prefix, mangle_dupe_cols, dtype, engine, converters, true_values, false_values, skipinitialspace, skiprows, skipfooter, nrows, na_values, keep_default_na, na_filter, verbose, skip_blank_lines, parse_dates, infer_datetime_format, keep_date_col, date_parser, dayfirst, cache_dates, iterator, chunksize, compression, thousands, decimal, lineterminator, quotechar, quoting, doublequote, escapechar, comment, encoding, encoding_errors, dialect, error_bad_lines, warn_bad_lines, on_bad_lines, delim_whitespace, low_memory, memory_map, float_precision, storage_options)\u001b[0m\n\u001b[1;32m    665\u001b[0m kwds_defaults \u001b[38;5;241m=\u001b[39m _refine_defaults_read(\n\u001b[1;32m    666\u001b[0m     dialect,\n\u001b[1;32m    667\u001b[0m     delimiter,\n\u001b[0;32m   (...)\u001b[0m\n\u001b[1;32m    676\u001b[0m     defaults\u001b[38;5;241m=\u001b[39m{\u001b[38;5;124m\"\u001b[39m\u001b[38;5;124mdelimiter\u001b[39m\u001b[38;5;124m\"\u001b[39m: \u001b[38;5;124m\"\u001b[39m\u001b[38;5;124m,\u001b[39m\u001b[38;5;124m\"\u001b[39m},\n\u001b[1;32m    677\u001b[0m )\n\u001b[1;32m    678\u001b[0m kwds\u001b[38;5;241m.\u001b[39mupdate(kwds_defaults)\n\u001b[0;32m--> 680\u001b[0m \u001b[38;5;28;01mreturn\u001b[39;00m \u001b[43m_read\u001b[49m\u001b[43m(\u001b[49m\u001b[43mfilepath_or_buffer\u001b[49m\u001b[43m,\u001b[49m\u001b[43m \u001b[49m\u001b[43mkwds\u001b[49m\u001b[43m)\u001b[49m\n",
      "File \u001b[0;32m/Applications/anaconda3/lib/python3.9/site-packages/pandas/io/parsers/readers.py:575\u001b[0m, in \u001b[0;36m_read\u001b[0;34m(filepath_or_buffer, kwds)\u001b[0m\n\u001b[1;32m    572\u001b[0m _validate_names(kwds\u001b[38;5;241m.\u001b[39mget(\u001b[38;5;124m\"\u001b[39m\u001b[38;5;124mnames\u001b[39m\u001b[38;5;124m\"\u001b[39m, \u001b[38;5;28;01mNone\u001b[39;00m))\n\u001b[1;32m    574\u001b[0m \u001b[38;5;66;03m# Create the parser.\u001b[39;00m\n\u001b[0;32m--> 575\u001b[0m parser \u001b[38;5;241m=\u001b[39m \u001b[43mTextFileReader\u001b[49m\u001b[43m(\u001b[49m\u001b[43mfilepath_or_buffer\u001b[49m\u001b[43m,\u001b[49m\u001b[43m \u001b[49m\u001b[38;5;241;43m*\u001b[39;49m\u001b[38;5;241;43m*\u001b[39;49m\u001b[43mkwds\u001b[49m\u001b[43m)\u001b[49m\n\u001b[1;32m    577\u001b[0m \u001b[38;5;28;01mif\u001b[39;00m chunksize \u001b[38;5;129;01mor\u001b[39;00m iterator:\n\u001b[1;32m    578\u001b[0m     \u001b[38;5;28;01mreturn\u001b[39;00m parser\n",
      "File \u001b[0;32m/Applications/anaconda3/lib/python3.9/site-packages/pandas/io/parsers/readers.py:933\u001b[0m, in \u001b[0;36mTextFileReader.__init__\u001b[0;34m(self, f, engine, **kwds)\u001b[0m\n\u001b[1;32m    930\u001b[0m     \u001b[38;5;28mself\u001b[39m\u001b[38;5;241m.\u001b[39moptions[\u001b[38;5;124m\"\u001b[39m\u001b[38;5;124mhas_index_names\u001b[39m\u001b[38;5;124m\"\u001b[39m] \u001b[38;5;241m=\u001b[39m kwds[\u001b[38;5;124m\"\u001b[39m\u001b[38;5;124mhas_index_names\u001b[39m\u001b[38;5;124m\"\u001b[39m]\n\u001b[1;32m    932\u001b[0m \u001b[38;5;28mself\u001b[39m\u001b[38;5;241m.\u001b[39mhandles: IOHandles \u001b[38;5;241m|\u001b[39m \u001b[38;5;28;01mNone\u001b[39;00m \u001b[38;5;241m=\u001b[39m \u001b[38;5;28;01mNone\u001b[39;00m\n\u001b[0;32m--> 933\u001b[0m \u001b[38;5;28mself\u001b[39m\u001b[38;5;241m.\u001b[39m_engine \u001b[38;5;241m=\u001b[39m \u001b[38;5;28;43mself\u001b[39;49m\u001b[38;5;241;43m.\u001b[39;49m\u001b[43m_make_engine\u001b[49m\u001b[43m(\u001b[49m\u001b[43mf\u001b[49m\u001b[43m,\u001b[49m\u001b[43m \u001b[49m\u001b[38;5;28;43mself\u001b[39;49m\u001b[38;5;241;43m.\u001b[39;49m\u001b[43mengine\u001b[49m\u001b[43m)\u001b[49m\n",
      "File \u001b[0;32m/Applications/anaconda3/lib/python3.9/site-packages/pandas/io/parsers/readers.py:1217\u001b[0m, in \u001b[0;36mTextFileReader._make_engine\u001b[0;34m(self, f, engine)\u001b[0m\n\u001b[1;32m   1213\u001b[0m     mode \u001b[38;5;241m=\u001b[39m \u001b[38;5;124m\"\u001b[39m\u001b[38;5;124mrb\u001b[39m\u001b[38;5;124m\"\u001b[39m\n\u001b[1;32m   1214\u001b[0m \u001b[38;5;66;03m# error: No overload variant of \"get_handle\" matches argument types\u001b[39;00m\n\u001b[1;32m   1215\u001b[0m \u001b[38;5;66;03m# \"Union[str, PathLike[str], ReadCsvBuffer[bytes], ReadCsvBuffer[str]]\"\u001b[39;00m\n\u001b[1;32m   1216\u001b[0m \u001b[38;5;66;03m# , \"str\", \"bool\", \"Any\", \"Any\", \"Any\", \"Any\", \"Any\"\u001b[39;00m\n\u001b[0;32m-> 1217\u001b[0m \u001b[38;5;28mself\u001b[39m\u001b[38;5;241m.\u001b[39mhandles \u001b[38;5;241m=\u001b[39m \u001b[43mget_handle\u001b[49m\u001b[43m(\u001b[49m\u001b[43m  \u001b[49m\u001b[38;5;66;43;03m# type: ignore[call-overload]\u001b[39;49;00m\n\u001b[1;32m   1218\u001b[0m \u001b[43m    \u001b[49m\u001b[43mf\u001b[49m\u001b[43m,\u001b[49m\n\u001b[1;32m   1219\u001b[0m \u001b[43m    \u001b[49m\u001b[43mmode\u001b[49m\u001b[43m,\u001b[49m\n\u001b[1;32m   1220\u001b[0m \u001b[43m    \u001b[49m\u001b[43mencoding\u001b[49m\u001b[38;5;241;43m=\u001b[39;49m\u001b[38;5;28;43mself\u001b[39;49m\u001b[38;5;241;43m.\u001b[39;49m\u001b[43moptions\u001b[49m\u001b[38;5;241;43m.\u001b[39;49m\u001b[43mget\u001b[49m\u001b[43m(\u001b[49m\u001b[38;5;124;43m\"\u001b[39;49m\u001b[38;5;124;43mencoding\u001b[39;49m\u001b[38;5;124;43m\"\u001b[39;49m\u001b[43m,\u001b[49m\u001b[43m \u001b[49m\u001b[38;5;28;43;01mNone\u001b[39;49;00m\u001b[43m)\u001b[49m\u001b[43m,\u001b[49m\n\u001b[1;32m   1221\u001b[0m \u001b[43m    \u001b[49m\u001b[43mcompression\u001b[49m\u001b[38;5;241;43m=\u001b[39;49m\u001b[38;5;28;43mself\u001b[39;49m\u001b[38;5;241;43m.\u001b[39;49m\u001b[43moptions\u001b[49m\u001b[38;5;241;43m.\u001b[39;49m\u001b[43mget\u001b[49m\u001b[43m(\u001b[49m\u001b[38;5;124;43m\"\u001b[39;49m\u001b[38;5;124;43mcompression\u001b[39;49m\u001b[38;5;124;43m\"\u001b[39;49m\u001b[43m,\u001b[49m\u001b[43m \u001b[49m\u001b[38;5;28;43;01mNone\u001b[39;49;00m\u001b[43m)\u001b[49m\u001b[43m,\u001b[49m\n\u001b[1;32m   1222\u001b[0m \u001b[43m    \u001b[49m\u001b[43mmemory_map\u001b[49m\u001b[38;5;241;43m=\u001b[39;49m\u001b[38;5;28;43mself\u001b[39;49m\u001b[38;5;241;43m.\u001b[39;49m\u001b[43moptions\u001b[49m\u001b[38;5;241;43m.\u001b[39;49m\u001b[43mget\u001b[49m\u001b[43m(\u001b[49m\u001b[38;5;124;43m\"\u001b[39;49m\u001b[38;5;124;43mmemory_map\u001b[39;49m\u001b[38;5;124;43m\"\u001b[39;49m\u001b[43m,\u001b[49m\u001b[43m \u001b[49m\u001b[38;5;28;43;01mFalse\u001b[39;49;00m\u001b[43m)\u001b[49m\u001b[43m,\u001b[49m\n\u001b[1;32m   1223\u001b[0m \u001b[43m    \u001b[49m\u001b[43mis_text\u001b[49m\u001b[38;5;241;43m=\u001b[39;49m\u001b[43mis_text\u001b[49m\u001b[43m,\u001b[49m\n\u001b[1;32m   1224\u001b[0m \u001b[43m    \u001b[49m\u001b[43merrors\u001b[49m\u001b[38;5;241;43m=\u001b[39;49m\u001b[38;5;28;43mself\u001b[39;49m\u001b[38;5;241;43m.\u001b[39;49m\u001b[43moptions\u001b[49m\u001b[38;5;241;43m.\u001b[39;49m\u001b[43mget\u001b[49m\u001b[43m(\u001b[49m\u001b[38;5;124;43m\"\u001b[39;49m\u001b[38;5;124;43mencoding_errors\u001b[39;49m\u001b[38;5;124;43m\"\u001b[39;49m\u001b[43m,\u001b[49m\u001b[43m \u001b[49m\u001b[38;5;124;43m\"\u001b[39;49m\u001b[38;5;124;43mstrict\u001b[39;49m\u001b[38;5;124;43m\"\u001b[39;49m\u001b[43m)\u001b[49m\u001b[43m,\u001b[49m\n\u001b[1;32m   1225\u001b[0m \u001b[43m    \u001b[49m\u001b[43mstorage_options\u001b[49m\u001b[38;5;241;43m=\u001b[39;49m\u001b[38;5;28;43mself\u001b[39;49m\u001b[38;5;241;43m.\u001b[39;49m\u001b[43moptions\u001b[49m\u001b[38;5;241;43m.\u001b[39;49m\u001b[43mget\u001b[49m\u001b[43m(\u001b[49m\u001b[38;5;124;43m\"\u001b[39;49m\u001b[38;5;124;43mstorage_options\u001b[39;49m\u001b[38;5;124;43m\"\u001b[39;49m\u001b[43m,\u001b[49m\u001b[43m \u001b[49m\u001b[38;5;28;43;01mNone\u001b[39;49;00m\u001b[43m)\u001b[49m\u001b[43m,\u001b[49m\n\u001b[1;32m   1226\u001b[0m \u001b[43m\u001b[49m\u001b[43m)\u001b[49m\n\u001b[1;32m   1227\u001b[0m \u001b[38;5;28;01massert\u001b[39;00m \u001b[38;5;28mself\u001b[39m\u001b[38;5;241m.\u001b[39mhandles \u001b[38;5;129;01mis\u001b[39;00m \u001b[38;5;129;01mnot\u001b[39;00m \u001b[38;5;28;01mNone\u001b[39;00m\n\u001b[1;32m   1228\u001b[0m f \u001b[38;5;241m=\u001b[39m \u001b[38;5;28mself\u001b[39m\u001b[38;5;241m.\u001b[39mhandles\u001b[38;5;241m.\u001b[39mhandle\n",
      "File \u001b[0;32m/Applications/anaconda3/lib/python3.9/site-packages/pandas/io/common.py:789\u001b[0m, in \u001b[0;36mget_handle\u001b[0;34m(path_or_buf, mode, encoding, compression, memory_map, is_text, errors, storage_options)\u001b[0m\n\u001b[1;32m    784\u001b[0m \u001b[38;5;28;01melif\u001b[39;00m \u001b[38;5;28misinstance\u001b[39m(handle, \u001b[38;5;28mstr\u001b[39m):\n\u001b[1;32m    785\u001b[0m     \u001b[38;5;66;03m# Check whether the filename is to be opened in binary mode.\u001b[39;00m\n\u001b[1;32m    786\u001b[0m     \u001b[38;5;66;03m# Binary mode does not support 'encoding' and 'newline'.\u001b[39;00m\n\u001b[1;32m    787\u001b[0m     \u001b[38;5;28;01mif\u001b[39;00m ioargs\u001b[38;5;241m.\u001b[39mencoding \u001b[38;5;129;01mand\u001b[39;00m \u001b[38;5;124m\"\u001b[39m\u001b[38;5;124mb\u001b[39m\u001b[38;5;124m\"\u001b[39m \u001b[38;5;129;01mnot\u001b[39;00m \u001b[38;5;129;01min\u001b[39;00m ioargs\u001b[38;5;241m.\u001b[39mmode:\n\u001b[1;32m    788\u001b[0m         \u001b[38;5;66;03m# Encoding\u001b[39;00m\n\u001b[0;32m--> 789\u001b[0m         handle \u001b[38;5;241m=\u001b[39m \u001b[38;5;28;43mopen\u001b[39;49m\u001b[43m(\u001b[49m\n\u001b[1;32m    790\u001b[0m \u001b[43m            \u001b[49m\u001b[43mhandle\u001b[49m\u001b[43m,\u001b[49m\n\u001b[1;32m    791\u001b[0m \u001b[43m            \u001b[49m\u001b[43mioargs\u001b[49m\u001b[38;5;241;43m.\u001b[39;49m\u001b[43mmode\u001b[49m\u001b[43m,\u001b[49m\n\u001b[1;32m    792\u001b[0m \u001b[43m            \u001b[49m\u001b[43mencoding\u001b[49m\u001b[38;5;241;43m=\u001b[39;49m\u001b[43mioargs\u001b[49m\u001b[38;5;241;43m.\u001b[39;49m\u001b[43mencoding\u001b[49m\u001b[43m,\u001b[49m\n\u001b[1;32m    793\u001b[0m \u001b[43m            \u001b[49m\u001b[43merrors\u001b[49m\u001b[38;5;241;43m=\u001b[39;49m\u001b[43merrors\u001b[49m\u001b[43m,\u001b[49m\n\u001b[1;32m    794\u001b[0m \u001b[43m            \u001b[49m\u001b[43mnewline\u001b[49m\u001b[38;5;241;43m=\u001b[39;49m\u001b[38;5;124;43m\"\u001b[39;49m\u001b[38;5;124;43m\"\u001b[39;49m\u001b[43m,\u001b[49m\n\u001b[1;32m    795\u001b[0m \u001b[43m        \u001b[49m\u001b[43m)\u001b[49m\n\u001b[1;32m    796\u001b[0m     \u001b[38;5;28;01melse\u001b[39;00m:\n\u001b[1;32m    797\u001b[0m         \u001b[38;5;66;03m# Binary mode\u001b[39;00m\n\u001b[1;32m    798\u001b[0m         handle \u001b[38;5;241m=\u001b[39m \u001b[38;5;28mopen\u001b[39m(handle, ioargs\u001b[38;5;241m.\u001b[39mmode)\n",
      "\u001b[0;31mFileNotFoundError\u001b[0m: [Errno 2] No such file or directory: '.../sample_data/covid.csv'"
     ]
    }
   ],
   "source": [
    "''' Load data '''\n",
    "import pandas as pd\n",
    "\n",
    "#specify file location\n",
    "file_dir = \"../sample_data/\"\n",
    "#specify file name\n",
    "file_name= \"covid.csv\"\n",
    "#specify file path\n",
    "file_path=file_dir+file_name\n",
    "#sets the first row of the dataset as the header \n",
    "first_row_header = True\n",
    "\n",
    "print(\"read data from %s\" %file_path)\n",
    "\n",
    "#reads the dataset from the csv file and prints the first 5 rows of data\n",
    "data_df = pd.read_csv(file_path)\n",
    "print(data_df.head(5))"
   ]
  },
  {
   "cell_type": "markdown",
   "id": "76643f2f",
   "metadata": {},
   "source": [
    "## Statistics of Numerical columns\n",
    "\n",
    "### import wrangler data stats package\n",
    "Actvivate and inherit the wrangler/DataStatistics package\n",
    "\n",
    "__TODO__ enhance wrangler as a package to include all classes as subclasses\n",
    "Then be able to\n",
    "\n",
    "```from wrangler import stats as ds```"
   ]
  },
  {
   "cell_type": "code",
   "execution_count": 168,
   "id": "8b6c897d",
   "metadata": {},
   "outputs": [
    {
     "name": "stdout",
     "output_type": "stream",
     "text": [
      "['__class__', '__delattr__', '__dict__', '__dir__', '__doc__', '__eq__', '__format__', '__ge__', '__getattribute__', '__gt__', '__hash__', '__init__', '__init_subclass__', '__le__', '__lt__', '__module__', '__ne__', '__new__', '__reduce__', '__reduce_ex__', '__repr__', '__setattr__', '__sizeof__', '__str__', '__subclasshook__', '__weakref__', '_dist_types', '_distributions', '_dup_method', '_l_dup_methods', 'count_duplicates', 'count_nulls', 'fit_distributions', 'get_central_tendency', 'get_data_types', 'name', 'new_get_central_tendency', 'test_uniformity']\n"
     ]
    }
   ],
   "source": [
    "import sys\n",
    "sys.path.insert(1, '../wrangler')\n",
    "import stats as ds\n",
    "import json\n",
    "\n",
    "#import importlib\n",
    "\n",
    "if debug:\n",
    "    import importlib\n",
    "    ds = importlib.reload(ds)\n",
    "\n",
    "data_name = \"covid stats\"\n",
    "cls_stats = ds.DataStatistics(name=data_name)\n",
    "print(dir(cls_stats))"
   ]
  },
  {
   "cell_type": "markdown",
   "id": "96ac25cd",
   "metadata": {},
   "source": [
    "### Data Types\n",
    "Returns all the variables and their data types"
   ]
  },
  {
   "cell_type": "code",
   "execution_count": 169,
   "id": "55a95bc0",
   "metadata": {},
   "outputs": [
    {
     "name": "stdout",
     "output_type": "stream",
     "text": [
      "{\n",
      "    \"Data Types\": {\n",
      "        \"dateRep\": \"object\",\n",
      "        \"day\": \"int64\",\n",
      "        \"month\": \"int64\",\n",
      "        \"year\": \"int64\",\n",
      "        \"cases\": \"int64\",\n",
      "        \"deaths\": \"int64\",\n",
      "        \"countriesAndTerritories\": \"object\",\n",
      "        \"geoId\": \"object\",\n",
      "        \"countryterritoryCode\": \"object\",\n",
      "        \"popData2019\": \"float64\",\n",
      "        \"continentExp\": \"object\",\n",
      "        \"Cumulative_number_for_14_days_of_COVID-19_cases_per_100000\": \"float64\"\n",
      "    }\n",
      "}\n"
     ]
    }
   ],
   "source": [
    "stat_dict = {}\n",
    "stat_dict = cls_stats.get_data_types(data_df)\n",
    "#uses wrangler libraries to return the data types of all variables\n",
    "print(json.dumps(stat_dict,sort_keys=False, indent=4))"
   ]
  },
  {
   "cell_type": "markdown",
   "id": "16925c5d",
   "metadata": {},
   "source": [
    "### Count Nulls\n",
    "Returns the number of Nulls (NaN) values for each Column\n"
   ]
  },
  {
   "cell_type": "code",
   "execution_count": 170,
   "id": "9bba21dd",
   "metadata": {},
   "outputs": [
    {
     "name": "stdout",
     "output_type": "stream",
     "text": [
      "{\n",
      "    \"NaN Counts\": {\n",
      "        \"dateRep\": 0,\n",
      "        \"day\": 0,\n",
      "        \"month\": 0,\n",
      "        \"year\": 0,\n",
      "        \"cases\": 0,\n",
      "        \"deaths\": 0,\n",
      "        \"countriesAndTerritories\": 0,\n",
      "        \"geoId\": 224,\n",
      "        \"countryterritoryCode\": 64,\n",
      "        \"popData2019\": 64,\n",
      "        \"continentExp\": 0,\n",
      "        \"Cumulative_number_for_14_days_of_COVID-19_cases_per_100000\": 2790\n",
      "    }\n",
      "}\n"
     ]
    }
   ],
   "source": [
    "stat_dict = {}\n",
    "stat_dict = cls_stats.count_nulls(data_df)\n",
    "#uses Wrangler libraries to return number of null values - these would have to be taken into account in analysis if present\n",
    "print(json.dumps(stat_dict,sort_keys=False, indent=4))"
   ]
  },
  {
   "cell_type": "markdown",
   "id": "0222ea40",
   "metadata": {},
   "source": [
    "### Count Duplicate rows/columns\n",
    "Returns the number of empty rows and columns. Empty rows or columns imply all values in the row or column are Null."
   ]
  },
  {
   "cell_type": "code",
   "execution_count": 171,
   "id": "b0bd209e",
   "metadata": {},
   "outputs": [
    {
     "name": "stdout",
     "output_type": "stream",
     "text": [
      "rows\n",
      "columns\n",
      "{\n",
      "    \"Number of Duplicate Rows\": 0,\n",
      "    \"Number of Duplicate columns\": 0\n",
      "}\n"
     ]
    }
   ],
   "source": [
    "stat_dict = {}\n",
    "_l_meth = [\"rows\",\"columns\"]\n",
    "stat_dict = cls_stats.count_duplicates(data_df,_l_meth)\n",
    "#Uses Wrangler libraries to count duplicate rows/columns - these may be cleaned from the dataset before analysis\n",
    "print(json.dumps(stat_dict,sort_keys=False, indent=4))"
   ]
  },
  {
   "cell_type": "markdown",
   "id": "17baa991",
   "metadata": {},
   "source": [
    "### Central Tendency\n",
    "Returns the mean, standard deviation, mode, and median for all numeric"
   ]
  },
  {
   "cell_type": "code",
   "execution_count": 172,
   "id": "61dd88f7",
   "metadata": {
    "scrolled": true
   },
   "outputs": [
    {
     "name": "stdout",
     "output_type": "stream",
     "text": [
      "% of data within 1 standard deviation of the mean:\n",
      "day:68.2689\n",
      "month:68.2689\n",
      "year:68.2689\n",
      "cases:68.2689\n",
      "deaths:68.2689\n",
      " \n",
      " \n",
      "% of data within 2 standard deviations of the mean:\n",
      "day:95.45\n",
      "month:95.45\n",
      "year:95.45\n",
      "cases:95.45\n",
      "deaths:95.45\n",
      " \n",
      " \n",
      "% of data within 3 standard deviations of the mean:\n",
      "day:99.72999999999999\n",
      "month:99.72999999999999\n",
      "year:99.72999999999999\n",
      "cases:99.72999999999999\n",
      "deaths:99.72999999999999\n",
      " \n",
      " \n",
      "{\n",
      "    \"Mode\": {\n",
      "        \"dateRep\": \"day\",\n",
      "        \"day\": \"month\",\n",
      "        \"month\": \"year\",\n",
      "        \"year\": \"cases\",\n",
      "        \"cases\": \"deaths\",\n",
      "        \"deaths\": \"popData2019\",\n",
      "        \"countriesAndTerritories\": \"Cumulative_number_for_14_days_of_COVID-19_cases_per_100000\"\n",
      "    },\n",
      "    \"Median\": {\n",
      "        \"dateRep\": 16.0,\n",
      "        \"day\": 6.0,\n",
      "        \"month\": 2020.0,\n",
      "        \"year\": 12.0,\n",
      "        \"cases\": 0.0,\n",
      "        \"deaths\": 8082359.0,\n",
      "        \"countriesAndTerritories\": 5.3782\n",
      "    },\n",
      "    \"Mean\": {\n",
      "        \"dateRep\": 15.7593,\n",
      "        \"day\": 6.2029,\n",
      "        \"month\": 2019.9987,\n",
      "        \"year\": 828.3193,\n",
      "        \"cases\": 22.4387,\n",
      "        \"deaths\": 41976917.4098,\n",
      "        \"countriesAndTerritories\": 41.2137\n",
      "    },\n",
      "    \"Variance\": {\n",
      "        \"dateRep\": 76.0458,\n",
      "        \"day\": 6.2298,\n",
      "        \"month\": 0.0013,\n",
      "        \"year\": 23035342.0977,\n",
      "        \"cases\": 15669.1221,\n",
      "        \"deaths\": 2.4220148296667096e+16,\n",
      "        \"countriesAndTerritories\": 9215.2935\n",
      "    },\n",
      "    \"Standard Deviation\": {\n",
      "        \"dateRep\": 8.7204,\n",
      "        \"day\": 2.496,\n",
      "        \"month\": 0.0362,\n",
      "        \"year\": 4799.5148,\n",
      "        \"cases\": 125.1764,\n",
      "        \"deaths\": 155628237.4657,\n",
      "        \"countriesAndTerritories\": 95.9963\n",
      "    }\n",
      "}\n"
     ]
    }
   ],
   "source": [
    "from scipy.stats import norm\n",
    "stat_dict = {}\n",
    "stat_dict = cls_stats.new_get_central_tendency(data_df)\n",
    "\n",
    "\n",
    "\n",
    "    \n",
    "#returns mean variance and standard deviation for variables where these calculations are possible\n",
    "print(json.dumps(stat_dict,sort_keys=False, indent=4))"
   ]
  },
  {
   "cell_type": "markdown",
   "id": "08fc0c03",
   "metadata": {},
   "source": [
    "### Uniformity test\n",
    "Returns the KT test outputs\n",
    "\n",
    "__TODO__ define wat thep-value explains"
   ]
  },
  {
   "cell_type": "code",
   "execution_count": null,
   "id": "7d11ef57",
   "metadata": {},
   "outputs": [],
   "source": [
    "stat_dict = {}\n",
    "stat_dict = cls_stats.test_uniformity(data_df)\n",
    "print(json.dumps(stat_dict,sort_keys=False, indent=4))"
   ]
  },
  {
   "cell_type": "markdown",
   "id": "05fc7b08",
   "metadata": {},
   "source": [
    "### Distributions\n",
    "Returns the set of goodness of fit indicators for the a set, popular, or all distributions"
   ]
  },
  {
   "cell_type": "code",
   "execution_count": null,
   "id": "623fe6b6",
   "metadata": {},
   "outputs": [],
   "source": [
    "%%capture\n",
    "import pandas as pd\n",
    "\n",
    "stat_summary_df = pd.DataFrame([])\n",
    "stat_summary_df = cls_stats.fit_distributions(data_df,[\"full\"])"
   ]
  },
  {
   "cell_type": "code",
   "execution_count": null,
   "id": "a9d6d1df",
   "metadata": {},
   "outputs": [],
   "source": [
    "print(stat_summary_df.head(5))"
   ]
  },
  {
   "cell_type": "code",
   "execution_count": null,
   "id": "32441545",
   "metadata": {},
   "outputs": [],
   "source": []
  }
 ],
 "metadata": {
  "kernelspec": {
   "display_name": "Python 3 (ipykernel)",
   "language": "python",
   "name": "python3"
  },
  "language_info": {
   "codemirror_mode": {
    "name": "ipython",
    "version": 3
   },
   "file_extension": ".py",
   "mimetype": "text/x-python",
   "name": "python",
   "nbconvert_exporter": "python",
   "pygments_lexer": "ipython3",
   "version": "3.9.12"
  },
  "vscode": {
   "interpreter": {
    "hash": "cd78fef2128015050713e82ca51c6520b11aee7c9ee8df750520bbbc7384cbaa"
   }
  }
 },
 "nbformat": 4,
 "nbformat_minor": 5
}
