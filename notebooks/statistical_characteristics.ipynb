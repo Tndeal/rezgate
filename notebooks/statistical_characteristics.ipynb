{
 "cells": [
  {
   "cell_type": "markdown",
   "id": "61fc0287",
   "metadata": {},
   "source": [
    "# Statistical Characteristics\n",
    "\n",
    "[Methods for describing a set of data](https://bookdown.org/thomas_pernet/Tuto/methods-for-describing-a-set-of-data.html)"
   ]
  },
  {
   "cell_type": "code",
   "execution_count": 2,
   "id": "1d55b8c8",
   "metadata": {},
   "outputs": [],
   "source": [
    "'''\n",
    "    WARNING CONTROL to display or ignore all warnings\n",
    "'''\n",
    "import warnings; warnings.simplefilter('default')     #switch betweeb 'default' and 'ignore'\n",
    "\n",
    "''' Set debug flag to view extended error messages; else set it to False to turn off debugging mode '''\n",
    "debug = True"
   ]
  },
  {
   "cell_type": "code",
   "execution_count": 3,
   "id": "e1252b4f",
   "metadata": {},
   "outputs": [
    {
     "name": "stdout",
     "output_type": "stream",
     "text": [
      "read data from /Users/thiaradealwis/Desktop/Workspace/rezgate/sample_data/covid.csv\n",
      "      dateRep  day  month  year  cases  deaths countriesAndTerritories geoId  \\\n",
      "0  24/10/2020   24     10  2020     61       2             Afghanistan    AF   \n",
      "1  23/10/2020   23     10  2020    116       4             Afghanistan    AF   \n",
      "2  22/10/2020   22     10  2020    135       2             Afghanistan    AF   \n",
      "3  21/10/2020   21     10  2020     88       2             Afghanistan    AF   \n",
      "4  20/10/2020   20     10  2020     87       5             Afghanistan    AF   \n",
      "\n",
      "  countryterritoryCode  popData2019 continentExp  \\\n",
      "0                  AFG   38041757.0         Asia   \n",
      "1                  AFG   38041757.0         Asia   \n",
      "2                  AFG   38041757.0         Asia   \n",
      "3                  AFG   38041757.0         Asia   \n",
      "4                  AFG   38041757.0         Asia   \n",
      "\n",
      "   Cumulative_number_for_14_days_of_COVID-19_cases_per_100000  \n",
      "0                                           2.586631           \n",
      "1                                           2.452568           \n",
      "2                                           2.350049           \n",
      "3                                           2.173927           \n",
      "4                                           2.105581           \n"
     ]
    }
   ],
   "source": [
    "''' Load data '''\n",
    "import pandas as pd\n",
    "\n",
    "#specify file location\n",
    "file_dir = \"/Users/thiaradealwis/Desktop/Workspace/rezgate/sample_data/\"\n",
    "#specify file name\n",
    "file_name= \"covid.csv\"\n",
    "#specify file path\n",
    "file_path=file_dir+file_name\n",
    "#sets the first row of the dataset as the header \n",
    "first_row_header = True\n",
    "\n",
    "print(\"read data from %s\" %file_path)\n",
    "\n",
    "#reads the dataset from the csv file and prints the first 5 rows of data\n",
    "data_df = pd.read_csv(file_path)\n",
    "print(data_df.head(5))"
   ]
  },
  {
   "cell_type": "markdown",
   "id": "76643f2f",
   "metadata": {},
   "source": [
    "## Statistics of Numerical columns\n",
    "\n",
    "### import wrangler data stats package\n",
    "Actvivate and inherit the wrangler/DataStatistics package\n",
    "\n",
    "__TODO__ enhance wrangler as a package to include all classes as subclasses\n",
    "Then be able to\n",
    "\n",
    "```from wrangler import stats as ds```"
   ]
  },
  {
   "cell_type": "code",
   "execution_count": 4,
   "id": "8b6c897d",
   "metadata": {},
   "outputs": [
    {
     "name": "stdout",
     "output_type": "stream",
     "text": [
      "['__class__', '__delattr__', '__dict__', '__dir__', '__doc__', '__eq__', '__format__', '__ge__', '__getattribute__', '__gt__', '__hash__', '__init__', '__init_subclass__', '__le__', '__lt__', '__module__', '__ne__', '__new__', '__reduce__', '__reduce_ex__', '__repr__', '__setattr__', '__sizeof__', '__str__', '__subclasshook__', '__weakref__', '_dist_types', '_distributions', '_dup_method', '_l_dup_methods', 'count_duplicates', 'count_nulls', 'fit_distributions', 'get_central_tendency', 'get_data_types', 'name', 'test_uniformity']\n"
     ]
    }
   ],
   "source": [
    "import sys\n",
    "sys.path.insert(1, '../wrangler')\n",
    "import stats as ds\n",
    "import json\n",
    "\n",
    "#import importlib\n",
    "\n",
    "if debug:\n",
    "    import importlib\n",
    "    ds = importlib.reload(ds)\n",
    "\n",
    "data_name = \"covid stats\"\n",
    "cls_stats = ds.DataStatistics(name=data_name)\n",
    "print(dir(cls_stats))"
   ]
  },
  {
   "cell_type": "markdown",
   "id": "96ac25cd",
   "metadata": {},
   "source": [
    "### Data Types\n",
    "Returns all the variables and their data types"
   ]
  },
  {
   "cell_type": "code",
   "execution_count": 5,
   "id": "55a95bc0",
   "metadata": {},
   "outputs": [
    {
     "name": "stdout",
     "output_type": "stream",
     "text": [
      "{\n",
      "    \"Data Types\": {\n",
      "        \"dateRep\": \"object\",\n",
      "        \"day\": \"int64\",\n",
      "        \"month\": \"int64\",\n",
      "        \"year\": \"int64\",\n",
      "        \"cases\": \"int64\",\n",
      "        \"deaths\": \"int64\",\n",
      "        \"countriesAndTerritories\": \"object\",\n",
      "        \"geoId\": \"object\",\n",
      "        \"countryterritoryCode\": \"object\",\n",
      "        \"popData2019\": \"float64\",\n",
      "        \"continentExp\": \"object\",\n",
      "        \"Cumulative_number_for_14_days_of_COVID-19_cases_per_100000\": \"float64\"\n",
      "    }\n",
      "}\n"
     ]
    }
   ],
   "source": [
    "stat_dict = {}\n",
    "stat_dict = cls_stats.get_data_types(data_df)\n",
    "#uses wrangler libraries to return the data types of all variables\n",
    "print(json.dumps(stat_dict,sort_keys=False, indent=4))"
   ]
  },
  {
   "cell_type": "markdown",
   "id": "16925c5d",
   "metadata": {},
   "source": [
    "### Count Nulls\n",
    "Returns the number of Nulls (NaN) values for each Column\n"
   ]
  },
  {
   "cell_type": "code",
   "execution_count": 6,
   "id": "9bba21dd",
   "metadata": {},
   "outputs": [
    {
     "name": "stdout",
     "output_type": "stream",
     "text": [
      "{\n",
      "    \"NaN Counts\": {\n",
      "        \"dateRep\": 0,\n",
      "        \"day\": 0,\n",
      "        \"month\": 0,\n",
      "        \"year\": 0,\n",
      "        \"cases\": 0,\n",
      "        \"deaths\": 0,\n",
      "        \"countriesAndTerritories\": 0,\n",
      "        \"geoId\": 224,\n",
      "        \"countryterritoryCode\": 64,\n",
      "        \"popData2019\": 64,\n",
      "        \"continentExp\": 0,\n",
      "        \"Cumulative_number_for_14_days_of_COVID-19_cases_per_100000\": 2790\n",
      "    }\n",
      "}\n"
     ]
    }
   ],
   "source": [
    "stat_dict = {}\n",
    "stat_dict = cls_stats.count_nulls(data_df)\n",
    "#uses Wrangler libraries to return number of null values - these would have to be taken into account in analysis if present\n",
    "print(json.dumps(stat_dict,sort_keys=False, indent=4))"
   ]
  },
  {
   "cell_type": "markdown",
   "id": "0222ea40",
   "metadata": {},
   "source": [
    "### Count Duplicate rows/columns\n",
    "Returns the number of empty rows and columns. Empty rows or columns imply all values in the row or column are Null."
   ]
  },
  {
   "cell_type": "code",
   "execution_count": 7,
   "id": "b0bd209e",
   "metadata": {},
   "outputs": [
    {
     "name": "stdout",
     "output_type": "stream",
     "text": [
      "rows\n",
      "columns\n",
      "{\n",
      "    \"Number of Duplicate Rows\": 0,\n",
      "    \"Number of Duplicate columns\": 0\n",
      "}\n"
     ]
    }
   ],
   "source": [
    "stat_dict = {}\n",
    "_l_meth = [\"rows\",\"columns\"]\n",
    "stat_dict = cls_stats.count_duplicates(data_df,_l_meth)\n",
    "#Uses Wrangler libraries to count duplicate rows/columns - these may be cleaned from the dataset before analysis\n",
    "print(json.dumps(stat_dict,sort_keys=False, indent=4))"
   ]
  },
  {
   "cell_type": "markdown",
   "id": "17baa991",
   "metadata": {},
   "source": [
    "### Central Tendency\n",
    "Returns the mean, standard deviation, mode, and median for all numeric"
   ]
  },
  {
   "cell_type": "code",
   "execution_count": 20,
   "id": "61dd88f7",
   "metadata": {
    "scrolled": true
   },
   "outputs": [
    {
     "name": "stdout",
     "output_type": "stream",
     "text": [
      "{\n",
      "    \"Mean\": {\n",
      "        \"dateRep\": 15.7593,\n",
      "        \"day\": 6.2029,\n",
      "        \"month\": 2019.9987,\n",
      "        \"year\": 828.3193,\n",
      "        \"cases\": 22.4387,\n",
      "        \"deaths\": 41976917.4098,\n",
      "        \"countriesAndTerritories\": 41.2137\n",
      "    },\n",
      "    \"Variance\": {\n",
      "        \"dateRep\": 76.0458,\n",
      "        \"day\": 6.2298,\n",
      "        \"month\": 0.0013,\n",
      "        \"year\": 23035342.0977,\n",
      "        \"cases\": 15669.1221,\n",
      "        \"deaths\": 2.4220148296667096e+16,\n",
      "        \"countriesAndTerritories\": 9215.2935\n",
      "    },\n",
      "    \"Standard Deviation\": {\n",
      "        \"dateRep\": 8.7204,\n",
      "        \"day\": 2.496,\n",
      "        \"month\": 0.0362,\n",
      "        \"year\": 4799.5148,\n",
      "        \"cases\": 125.1764,\n",
      "        \"deaths\": 155628237.4657,\n",
      "        \"countriesAndTerritories\": 95.9963\n",
      "    }\n",
      "}\n"
     ]
    }
   ],
   "source": [
    "stat_dict = {}\n",
    "stat_dict = cls_stats.get_central_tendency(data_df)\n",
    "#returns mean variance and standard deviation for variables where these calculations are possible\n",
    "print(json.dumps({key:stat_dict[key] for key in [\"Mean\", \"Variance\", \"Standard Deviation\"]},sort_keys=False, indent=4))"
   ]
  },
  {
   "cell_type": "markdown",
   "id": "08fc0c03",
   "metadata": {},
   "source": [
    "### Uniformity test\n",
    "Returns the KT test outputs\n",
    "\n",
    "__TODO__ define wat thep-value explains"
   ]
  },
  {
   "cell_type": "code",
   "execution_count": 9,
   "id": "7d11ef57",
   "metadata": {},
   "outputs": [
    {
     "name": "stdout",
     "output_type": "stream",
     "text": [
      "{\n",
      "    \"KS Test Statistic\": {\n",
      "        \"day\": 0.9449,\n",
      "        \"month\": 0.9367,\n",
      "        \"year\": 1.0,\n",
      "        \"cases\": 0.6064,\n",
      "        \"deaths\": 0.4998,\n",
      "        \"popData2019\": NaN,\n",
      "        \"Cumulative_number_for_14_days_of_COVID-19_cases_per_100000\": NaN\n",
      "    },\n",
      "    \"KS Test P-value\": {\n",
      "        \"day\": 0.0,\n",
      "        \"month\": 0.0,\n",
      "        \"year\": 0.0,\n",
      "        \"cases\": 0.0,\n",
      "        \"deaths\": 0.0,\n",
      "        \"popData2019\": NaN,\n",
      "        \"Cumulative_number_for_14_days_of_COVID-19_cases_per_100000\": NaN\n",
      "    }\n",
      "}\n"
     ]
    }
   ],
   "source": [
    "stat_dict = {}\n",
    "stat_dict = cls_stats.test_uniformity(data_df)\n",
    "print(json.dumps(stat_dict,sort_keys=False, indent=4))"
   ]
  },
  {
   "cell_type": "markdown",
   "id": "05fc7b08",
   "metadata": {},
   "source": [
    "### Distributions\n",
    "Returns the set of goodness of fit indicators for the a set, popular, or all distributions"
   ]
  },
  {
   "cell_type": "code",
   "execution_count": 21,
   "id": "623fe6b6",
   "metadata": {},
   "outputs": [],
   "source": [
    "%%capture\n",
    "import pandas as pd\n",
    "\n",
    "stat_summary_df = pd.DataFrame([])\n",
    "stat_summary_df = cls_stats.fit_distributions(data_df,[\"popular\"])"
   ]
  },
  {
   "cell_type": "code",
   "execution_count": 22,
   "id": "a9d6d1df",
   "metadata": {},
   "outputs": [
    {
     "name": "stdout",
     "output_type": "stream",
     "text": [
      "        distr     score  LLE          loc      scale  \\\n",
      "0     uniform  0.034731  NaN          1.0       30.0   \n",
      "1        beta   0.03638  NaN     0.365867  30.634133   \n",
      "2  genextreme  0.041097  NaN    13.286215   9.114977   \n",
      "3    dweibull  0.041849  NaN    15.512784   8.348698   \n",
      "4    loggamma  0.041854  NaN -1092.505631   182.3433   \n",
      "\n",
      "                                       arg column name  \n",
      "0                                       ()         day  \n",
      "1  (0.980385889563673, 0.8400162122089201)         day  \n",
      "2                   (0.42385266617666784,)         day  \n",
      "3                    (1.6384588651708496,)         day  \n",
      "4                    (436.60984085206525,)         day  \n"
     ]
    }
   ],
   "source": [
    "print(stat_summary_df.head(5))"
   ]
  }
 ],
 "metadata": {
  "kernelspec": {
   "display_name": "Python 3 (ipykernel)",
   "language": "python",
   "name": "python3"
  },
  "language_info": {
   "codemirror_mode": {
    "name": "ipython",
    "version": 3
   },
   "file_extension": ".py",
   "mimetype": "text/x-python",
   "name": "python",
   "nbconvert_exporter": "python",
   "pygments_lexer": "ipython3",
   "version": "3.9.12"
  },
  "vscode": {
   "interpreter": {
    "hash": "cd78fef2128015050713e82ca51c6520b11aee7c9ee8df750520bbbc7384cbaa"
   }
  }
 },
 "nbformat": 4,
 "nbformat_minor": 5
}
